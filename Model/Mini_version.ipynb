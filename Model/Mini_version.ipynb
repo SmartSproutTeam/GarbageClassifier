{
  "nbformat": 4,
  "nbformat_minor": 0,
  "metadata": {
    "colab": {
      "provenance": [],
      "collapsed_sections": [
        "OCQTv7VzrWaM",
        "JsEXVHKW5Bpw",
        "tkXYy0FC2BRN",
        "1j_Gf2sh4EXi",
        "9KroGLY3_eB3",
        "mcLzdOXJlK8K",
        "I6sDYvgx3ptn",
        "Ul7mXlFsWnQg"
      ]
    },
    "kernelspec": {
      "name": "python3",
      "display_name": "Python 3"
    },
    "language_info": {
      "name": "python"
    }
  },
  "cells": [
    {
      "cell_type": "markdown",
      "source": [
        "#1. Pre-processing images\n",
        "- Resizing images to size (224,224) as it is standard for DenseNet201\n",
        "- Normalising values within the range of 0 to 1\n",
        "- Splitting data into training and testing sets"
      ],
      "metadata": {
        "id": "OCQTv7VzrWaM"
      }
    },
    {
      "cell_type": "markdown",
      "source": [
        "##1.1 Resizing and normalising images"
      ],
      "metadata": {
        "id": "JsEXVHKW5Bpw"
      }
    },
    {
      "cell_type": "markdown",
      "source": [
        "Mounting Google Drive"
      ],
      "metadata": {
        "id": "6aFPvKSSrxQg"
      }
    },
    {
      "cell_type": "code",
      "execution_count": null,
      "metadata": {
        "colab": {
          "base_uri": "https://localhost:8080/"
        },
        "id": "Iu8W6BVgrR-B",
        "outputId": "e61d8239-4a97-41e1-9d3e-9964f6259133"
      },
      "outputs": [
        {
          "output_type": "stream",
          "name": "stdout",
          "text": [
            "Mounted at /content/drive\n"
          ]
        }
      ],
      "source": [
        "from google.colab import drive\n",
        "drive.mount('/content/drive')"
      ]
    },
    {
      "cell_type": "markdown",
      "source": [
        "Defining function that can read image files from folder path list"
      ],
      "metadata": {
        "id": "G_nf9d06sN55"
      }
    },
    {
      "cell_type": "code",
      "source": [
        "import os\n",
        "import cv2\n",
        "import numpy as np\n",
        "\n",
        "def load_images_from_folders(base_path, class_names, image_size=(224, 224)):\n",
        "\n",
        "    # Initialising list containing the images, list containing image labels,\n",
        "    images = []\n",
        "    labels = []\n",
        "    class_mapping = {i: class_names[i] for i in range(len(class_names))}  # Class index to folder mapping\n",
        "\n",
        "\n",
        "    # This creates an index and assigns it to each folder i.e. 0 Plastic, 1 Organic, 2 NonOrganic and NonPlastic\n",
        "    for class_index, class_name in enumerate(class_names):\n",
        "        folder_path = os.path.join(base_path, class_name)\n",
        "\n",
        "        # Checking whether the folder exists in base path\n",
        "        if not os.path.exists(folder_path):\n",
        "            print(f\"Folder '{class_name}' not found in '{base_path}'\")\n",
        "            continue\n",
        "\n",
        "        # Looping for all images in the folder\n",
        "        for file in os.listdir(folder_path):\n",
        "            file_path = os.path.join(folder_path, file)\n",
        "\n",
        "            # Read the image using OpenCV\n",
        "            img = cv2.imread(file_path)\n",
        "\n",
        "            # This part works; saving time by commenting out\n",
        "            # if img is None:\n",
        "            #     print(f\"Could not read image: {file_path}\")\n",
        "            #     continue\n",
        "\n",
        "            # Resize image\n",
        "            img = cv2.resize(img, image_size)\n",
        "\n",
        "            # Convert from BGR to RGB for TensorFlow/PyTorch compatibility\n",
        "            img = cv2.cvtColor(img, cv2.COLOR_BGR2RGB)\n",
        "\n",
        "            # Normalise pixel values to [0,1]\n",
        "            img = img / 255.0\n",
        "\n",
        "            # Append image and label\n",
        "            images.append(img)\n",
        "            labels.append(class_index)\n",
        "\n",
        "    # Convert to numpy arrays\n",
        "    images = np.array(images, dtype=np.float32)\n",
        "    labels = np.array(labels, dtype=np.int32)\n",
        "\n",
        "    return images, labels, class_mapping"
      ],
      "metadata": {
        "id": "mR5B4NQGvTG2"
      },
      "execution_count": null,
      "outputs": []
    },
    {
      "cell_type": "markdown",
      "source": [
        "Generating images, labels and class mapping"
      ],
      "metadata": {
        "id": "MNQYFoXMvohR"
      }
    },
    {
      "cell_type": "code",
      "source": [
        "# Defining the base folder and folder names in a list\n",
        "base_folder = \"/content/drive/MyDrive/AIStudio/Mini version CNN\"\n",
        "class_names = [\"Plastic\", \"Organic\", \"NonOrganic and NonPlastic\"]\n",
        "\n",
        "images, labels, class_mapping = load_images_from_folders(base_folder, class_names)"
      ],
      "metadata": {
        "id": "jJU8ehSPvr2E"
      },
      "execution_count": null,
      "outputs": []
    },
    {
      "cell_type": "code",
      "source": [
        "# Testing whether i could only use 10 images ----> could be useful to test everything is working with Charlie's part\n",
        "print(len(images[0:10]))"
      ],
      "metadata": {
        "colab": {
          "base_uri": "https://localhost:8080/"
        },
        "id": "5oCqP15VXpP6",
        "outputId": "ccb981f1-29d5-4c89-d0b8-757691c259df"
      },
      "execution_count": null,
      "outputs": [
        {
          "output_type": "stream",
          "name": "stdout",
          "text": [
            "10\n"
          ]
        }
      ]
    },
    {
      "cell_type": "code",
      "source": [
        "# Printing images\n",
        "\n",
        "print(\"Images\",images)\n",
        "print(\"\\nLabels\",labels)\n",
        "print(\"\\nClass mapping\",class_mapping)\n"
      ],
      "metadata": {
        "colab": {
          "base_uri": "https://localhost:8080/"
        },
        "id": "6P4JUb3L-5kE",
        "outputId": "e7ee8fd5-9b6f-4c24-ccd4-77d6ee728e5a"
      },
      "execution_count": null,
      "outputs": [
        {
          "output_type": "stream",
          "name": "stdout",
          "text": [
            "Images [[[[0.93333334 0.93333334 0.93333334]\n",
            "   [0.93333334 0.93333334 0.93333334]\n",
            "   [0.93333334 0.93333334 0.93333334]\n",
            "   ...\n",
            "   [0.93333334 0.93333334 0.93333334]\n",
            "   [0.93333334 0.93333334 0.93333334]\n",
            "   [0.93333334 0.93333334 0.93333334]]\n",
            "\n",
            "  [[0.93333334 0.93333334 0.93333334]\n",
            "   [0.93333334 0.93333334 0.93333334]\n",
            "   [0.93333334 0.93333334 0.93333334]\n",
            "   ...\n",
            "   [0.93333334 0.93333334 0.93333334]\n",
            "   [0.93333334 0.93333334 0.93333334]\n",
            "   [0.93333334 0.93333334 0.93333334]]\n",
            "\n",
            "  [[0.93333334 0.93333334 0.93333334]\n",
            "   [0.93333334 0.93333334 0.93333334]\n",
            "   [0.93333334 0.93333334 0.93333334]\n",
            "   ...\n",
            "   [0.93333334 0.93333334 0.93333334]\n",
            "   [0.93333334 0.93333334 0.93333334]\n",
            "   [0.93333334 0.93333334 0.93333334]]\n",
            "\n",
            "  ...\n",
            "\n",
            "  [[0.93333334 0.93333334 0.93333334]\n",
            "   [0.93333334 0.93333334 0.93333334]\n",
            "   [0.93333334 0.93333334 0.93333334]\n",
            "   ...\n",
            "   [0.93333334 0.93333334 0.93333334]\n",
            "   [0.93333334 0.93333334 0.93333334]\n",
            "   [0.93333334 0.93333334 0.93333334]]\n",
            "\n",
            "  [[0.93333334 0.93333334 0.93333334]\n",
            "   [0.93333334 0.93333334 0.93333334]\n",
            "   [0.93333334 0.93333334 0.93333334]\n",
            "   ...\n",
            "   [0.93333334 0.93333334 0.93333334]\n",
            "   [0.93333334 0.93333334 0.93333334]\n",
            "   [0.93333334 0.93333334 0.93333334]]\n",
            "\n",
            "  [[0.93333334 0.93333334 0.93333334]\n",
            "   [0.93333334 0.93333334 0.93333334]\n",
            "   [0.93333334 0.93333334 0.93333334]\n",
            "   ...\n",
            "   [0.93333334 0.93333334 0.93333334]\n",
            "   [0.93333334 0.93333334 0.93333334]\n",
            "   [0.93333334 0.93333334 0.93333334]]]\n",
            "\n",
            "\n",
            " [[[1.         1.         1.        ]\n",
            "   [1.         1.         1.        ]\n",
            "   [1.         1.         1.        ]\n",
            "   ...\n",
            "   [1.         1.         1.        ]\n",
            "   [1.         1.         1.        ]\n",
            "   [1.         1.         1.        ]]\n",
            "\n",
            "  [[1.         1.         1.        ]\n",
            "   [1.         1.         1.        ]\n",
            "   [1.         1.         1.        ]\n",
            "   ...\n",
            "   [1.         1.         1.        ]\n",
            "   [1.         1.         1.        ]\n",
            "   [1.         1.         1.        ]]\n",
            "\n",
            "  [[1.         1.         1.        ]\n",
            "   [1.         1.         1.        ]\n",
            "   [1.         1.         1.        ]\n",
            "   ...\n",
            "   [1.         1.         1.        ]\n",
            "   [1.         1.         1.        ]\n",
            "   [1.         1.         1.        ]]\n",
            "\n",
            "  ...\n",
            "\n",
            "  [[1.         1.         1.        ]\n",
            "   [1.         1.         1.        ]\n",
            "   [1.         1.         1.        ]\n",
            "   ...\n",
            "   [1.         1.         1.        ]\n",
            "   [1.         1.         1.        ]\n",
            "   [1.         1.         1.        ]]\n",
            "\n",
            "  [[1.         1.         1.        ]\n",
            "   [1.         1.         1.        ]\n",
            "   [1.         1.         1.        ]\n",
            "   ...\n",
            "   [1.         1.         1.        ]\n",
            "   [1.         1.         1.        ]\n",
            "   [1.         1.         1.        ]]\n",
            "\n",
            "  [[1.         1.         1.        ]\n",
            "   [1.         1.         1.        ]\n",
            "   [1.         1.         1.        ]\n",
            "   ...\n",
            "   [1.         1.         1.        ]\n",
            "   [1.         1.         1.        ]\n",
            "   [1.         1.         1.        ]]]\n",
            "\n",
            "\n",
            " [[[1.         1.         1.        ]\n",
            "   [1.         1.         1.        ]\n",
            "   [1.         1.         1.        ]\n",
            "   ...\n",
            "   [1.         1.         1.        ]\n",
            "   [1.         1.         1.        ]\n",
            "   [0.99607843 0.99607843 0.99607843]]\n",
            "\n",
            "  [[1.         1.         1.        ]\n",
            "   [1.         1.         1.        ]\n",
            "   [1.         1.         1.        ]\n",
            "   ...\n",
            "   [1.         1.         1.        ]\n",
            "   [1.         1.         1.        ]\n",
            "   [0.99607843 0.99607843 0.99607843]]\n",
            "\n",
            "  [[1.         1.         1.        ]\n",
            "   [1.         1.         1.        ]\n",
            "   [1.         1.         1.        ]\n",
            "   ...\n",
            "   [1.         1.         1.        ]\n",
            "   [1.         1.         1.        ]\n",
            "   [0.99607843 0.99607843 0.99607843]]\n",
            "\n",
            "  ...\n",
            "\n",
            "  [[1.         1.         1.        ]\n",
            "   [1.         1.         1.        ]\n",
            "   [1.         1.         1.        ]\n",
            "   ...\n",
            "   [1.         1.         1.        ]\n",
            "   [1.         1.         1.        ]\n",
            "   [1.         1.         1.        ]]\n",
            "\n",
            "  [[1.         1.         1.        ]\n",
            "   [1.         1.         1.        ]\n",
            "   [1.         1.         1.        ]\n",
            "   ...\n",
            "   [1.         1.         1.        ]\n",
            "   [1.         1.         1.        ]\n",
            "   [1.         1.         1.        ]]\n",
            "\n",
            "  [[1.         1.         1.        ]\n",
            "   [1.         1.         1.        ]\n",
            "   [1.         1.         1.        ]\n",
            "   ...\n",
            "   [1.         1.         1.        ]\n",
            "   [1.         1.         1.        ]\n",
            "   [0.99607843 0.99607843 0.99607843]]]\n",
            "\n",
            "\n",
            " ...\n",
            "\n",
            "\n",
            " [[[1.         1.         1.        ]\n",
            "   [1.         1.         1.        ]\n",
            "   [1.         1.         1.        ]\n",
            "   ...\n",
            "   [1.         1.         1.        ]\n",
            "   [1.         1.         1.        ]\n",
            "   [1.         1.         1.        ]]\n",
            "\n",
            "  [[1.         1.         1.        ]\n",
            "   [1.         1.         1.        ]\n",
            "   [1.         1.         1.        ]\n",
            "   ...\n",
            "   [1.         1.         1.        ]\n",
            "   [1.         1.         1.        ]\n",
            "   [1.         1.         1.        ]]\n",
            "\n",
            "  [[1.         1.         1.        ]\n",
            "   [1.         1.         1.        ]\n",
            "   [1.         1.         1.        ]\n",
            "   ...\n",
            "   [1.         1.         1.        ]\n",
            "   [1.         1.         1.        ]\n",
            "   [1.         1.         1.        ]]\n",
            "\n",
            "  ...\n",
            "\n",
            "  [[1.         1.         1.        ]\n",
            "   [1.         1.         1.        ]\n",
            "   [1.         1.         1.        ]\n",
            "   ...\n",
            "   [1.         1.         1.        ]\n",
            "   [1.         1.         1.        ]\n",
            "   [1.         1.         1.        ]]\n",
            "\n",
            "  [[1.         1.         1.        ]\n",
            "   [1.         1.         1.        ]\n",
            "   [1.         1.         1.        ]\n",
            "   ...\n",
            "   [1.         1.         1.        ]\n",
            "   [1.         1.         1.        ]\n",
            "   [1.         1.         1.        ]]\n",
            "\n",
            "  [[1.         1.         1.        ]\n",
            "   [1.         1.         1.        ]\n",
            "   [1.         1.         1.        ]\n",
            "   ...\n",
            "   [1.         1.         1.        ]\n",
            "   [1.         1.         1.        ]\n",
            "   [1.         1.         1.        ]]]\n",
            "\n",
            "\n",
            " [[[1.         1.         1.        ]\n",
            "   [1.         1.         1.        ]\n",
            "   [1.         1.         1.        ]\n",
            "   ...\n",
            "   [1.         1.         1.        ]\n",
            "   [1.         1.         1.        ]\n",
            "   [1.         1.         1.        ]]\n",
            "\n",
            "  [[1.         1.         1.        ]\n",
            "   [1.         1.         1.        ]\n",
            "   [1.         1.         1.        ]\n",
            "   ...\n",
            "   [1.         1.         1.        ]\n",
            "   [1.         1.         1.        ]\n",
            "   [1.         1.         1.        ]]\n",
            "\n",
            "  [[1.         1.         1.        ]\n",
            "   [1.         1.         1.        ]\n",
            "   [1.         1.         1.        ]\n",
            "   ...\n",
            "   [1.         1.         1.        ]\n",
            "   [1.         1.         1.        ]\n",
            "   [1.         1.         1.        ]]\n",
            "\n",
            "  ...\n",
            "\n",
            "  [[1.         1.         1.        ]\n",
            "   [1.         1.         1.        ]\n",
            "   [1.         1.         1.        ]\n",
            "   ...\n",
            "   [1.         1.         1.        ]\n",
            "   [1.         1.         1.        ]\n",
            "   [1.         1.         1.        ]]\n",
            "\n",
            "  [[1.         1.         1.        ]\n",
            "   [1.         1.         1.        ]\n",
            "   [1.         1.         1.        ]\n",
            "   ...\n",
            "   [1.         1.         1.        ]\n",
            "   [1.         1.         1.        ]\n",
            "   [1.         1.         1.        ]]\n",
            "\n",
            "  [[1.         1.         1.        ]\n",
            "   [1.         1.         1.        ]\n",
            "   [1.         1.         1.        ]\n",
            "   ...\n",
            "   [1.         1.         1.        ]\n",
            "   [1.         1.         1.        ]\n",
            "   [1.         1.         1.        ]]]\n",
            "\n",
            "\n",
            " [[[0.9882353  0.9843137  1.        ]\n",
            "   [0.9882353  0.9843137  1.        ]\n",
            "   [0.9882353  0.9843137  1.        ]\n",
            "   ...\n",
            "   [0.95686275 0.96862745 0.99607843]\n",
            "   [0.95686275 0.96862745 0.99607843]\n",
            "   [0.95686275 0.96862745 1.        ]]\n",
            "\n",
            "  [[0.9882353  0.9843137  1.        ]\n",
            "   [0.9882353  0.9843137  1.        ]\n",
            "   [0.9882353  0.9843137  1.        ]\n",
            "   ...\n",
            "   [0.95686275 0.96862745 0.99607843]\n",
            "   [0.95686275 0.96862745 0.99607843]\n",
            "   [0.95686275 0.96862745 1.        ]]\n",
            "\n",
            "  [[0.9882353  0.9843137  1.        ]\n",
            "   [0.9882353  0.9843137  1.        ]\n",
            "   [0.9882353  0.9843137  1.        ]\n",
            "   ...\n",
            "   [0.95686275 0.96862745 0.99607843]\n",
            "   [0.95686275 0.96862745 0.99607843]\n",
            "   [0.95686275 0.96862745 1.        ]]\n",
            "\n",
            "  ...\n",
            "\n",
            "  [[1.         0.99215686 1.        ]\n",
            "   [1.         0.99215686 1.        ]\n",
            "   [1.         0.99215686 1.        ]\n",
            "   ...\n",
            "   [1.         1.         1.        ]\n",
            "   [1.         1.         1.        ]\n",
            "   [1.         1.         1.        ]]\n",
            "\n",
            "  [[1.         0.99215686 1.        ]\n",
            "   [1.         0.99215686 1.        ]\n",
            "   [1.         0.99215686 1.        ]\n",
            "   ...\n",
            "   [1.         1.         1.        ]\n",
            "   [1.         1.         1.        ]\n",
            "   [1.         1.         1.        ]]\n",
            "\n",
            "  [[1.         0.99215686 1.        ]\n",
            "   [1.         0.99215686 1.        ]\n",
            "   [1.         0.99215686 1.        ]\n",
            "   ...\n",
            "   [1.         1.         1.        ]\n",
            "   [1.         1.         1.        ]\n",
            "   [1.         1.         1.        ]]]]\n",
            "\n",
            "Labels [0 0 0 0 0 0 0 0 0 0 0 0 0 0 0 0 0 0 0 0 1 1 1 1 1 1 1 1 1 1 1 1 1 1 1 1 1\n",
            " 1 1 1 2 2 2 2 2 2 2 2 2 2 2 2 2 2 2 2 2 2 2 2]\n",
            "\n",
            "Class mapping {0: 'Plastic', 1: 'Organic', 2: 'NonOrganic and NonPlastic'}\n"
          ]
        }
      ]
    },
    {
      "cell_type": "markdown",
      "source": [
        "##1.2 Observing the original image to see if resizing is appropriate"
      ],
      "metadata": {
        "id": "tkXYy0FC2BRN"
      }
    },
    {
      "cell_type": "markdown",
      "source": [
        "Can visualise original image and check with pre-processed image whether resizing is appropriate"
      ],
      "metadata": {
        "id": "mFJZHfbd-oKB"
      }
    },
    {
      "cell_type": "code",
      "source": [
        "# # Checking whether resized image is appropriate\n",
        "\n",
        "# import cv2\n",
        "# import os\n",
        "# import matplotlib.pyplot as plt\n",
        "# import numpy as np\n",
        "\n",
        "\n",
        "# def testing_function(base_path, class_names, image_size=(128, 128)):\n",
        "\n",
        "#     # Initialising list containing the images, list containing image labels,\n",
        "#     images = []\n",
        "#     labels = []\n",
        "#     class_mapping = {i: class_names[i] for i in range(len(class_names))}  # Class index to folder mapping\n",
        "\n",
        "\n",
        "#     # This creates an index and assigns it to each folder i.e. 0 Plastic, 1 Organic, 2 NonOrganic and NonPlastic\n",
        "#     for class_index, class_name in enumerate(class_names):\n",
        "#         folder_path = os.path.join(base_path, class_name)\n",
        "\n",
        "#         # Checking whether the folder exists in base path\n",
        "#         if not os.path.exists(folder_path):\n",
        "#             print(f\"Folder '{class_name}' not found in '{base_path}'\")\n",
        "#             continue\n",
        "\n",
        "#         # Looping for all images in the folder\n",
        "#         for file in os.listdir(folder_path):\n",
        "#             file_path = '/content/drive/MyDrive/AIStudio/Mini version CNN/Plastic/plastic11.jpg' # Can change this\n",
        "\n",
        "#             # Read the image using OpenCV\n",
        "#             img = cv2.imread(file_path)\n",
        "\n",
        "#             # Resize image\n",
        "#             img_resized = cv2.resize(img, image_size)\n",
        "\n",
        "#             # Convert from BGR to RGB for TensorFlow/PyTorch compatibility\n",
        "#             img_resized = cv2.cvtColor(img_resized, cv2.COLOR_BGR2RGB)\n",
        "\n",
        "#             # Normalise pixel values to [0,1]\n",
        "#             img_resized = img_resized / 255.0\n",
        "\n",
        "#             # Plot original vs. resized image\n",
        "#             plt.figure(figsize=(8, 4))\n",
        "\n",
        "#             plt.subplot(1, 2, 1)\n",
        "#             plt.imshow(img)\n",
        "#             plt.title(\"Original Image\")\n",
        "#             plt.axis(\"off\")\n",
        "\n",
        "#             plt.subplot(1, 2, 2)\n",
        "#             plt.imshow(img_resized)\n",
        "#             plt.title(f\"Resized to {(128, 128)}\")\n",
        "#             plt.axis(\"off\")\n",
        "\n",
        "#             plt.show()\n",
        "\n"
      ],
      "metadata": {
        "id": "vaSf5y2k8X6j"
      },
      "execution_count": null,
      "outputs": []
    },
    {
      "cell_type": "code",
      "source": [
        "# testing_function(base_folder, file_list)"
      ],
      "metadata": {
        "id": "qr14CC0H9fL8"
      },
      "execution_count": null,
      "outputs": []
    },
    {
      "cell_type": "markdown",
      "source": [
        "##1.3 Splitting the dataset"
      ],
      "metadata": {
        "id": "1j_Gf2sh4EXi"
      }
    },
    {
      "cell_type": "markdown",
      "source": [
        "Manually splitting data (80: 20) for training and testing"
      ],
      "metadata": {
        "id": "KQmfX3NgwCrM"
      }
    },
    {
      "cell_type": "code",
      "source": [
        "from sklearn.model_selection import train_test_split\n",
        "\n",
        "X_train, X_val, y_train, y_val = train_test_split(\n",
        "    images, labels,  # Use NumPy arrays\n",
        "    test_size=0.2,  # 20% for validation\n",
        "    random_state=42,  # Ensure reproducibility\n",
        "    stratify=labels  # Maintain class distribution\n",
        ")"
      ],
      "metadata": {
        "id": "OqU2H1mFwFMz"
      },
      "execution_count": null,
      "outputs": []
    },
    {
      "cell_type": "markdown",
      "source": [
        "Ensuring that the training and testing data has been one-hot encoded"
      ],
      "metadata": {
        "id": "U8c2Qtumzlsq"
      }
    },
    {
      "cell_type": "code",
      "source": [
        "from tensorflow.keras.utils import to_categorical\n",
        "\n",
        "# Count unique classes\n",
        "num_classes = len(np.unique(labels))\n",
        "\n",
        "# Ensure labels are categorical (one-hot encoding)\n",
        "y_train = to_categorical(y_train, num_classes=num_classes)\n",
        "y_val = to_categorical(y_val, num_classes=num_classes)\n",
        "\n",
        "print(\"Updated y_train shape:\", y_train.shape)  # Should be (num_samples, num_classes)"
      ],
      "metadata": {
        "colab": {
          "base_uri": "https://localhost:8080/"
        },
        "id": "c48sH4Q5zj40",
        "outputId": "612f1438-b538-4119-9886-22f0a9670d19"
      },
      "execution_count": null,
      "outputs": [
        {
          "output_type": "stream",
          "name": "stdout",
          "text": [
            "Updated y_train shape: (48, 3)\n"
          ]
        }
      ]
    },
    {
      "cell_type": "code",
      "source": [
        "print(X_train.shape)\n",
        "print(X_val.shape)\n",
        "print(y_train.shape)\n",
        "print(y_val.shape)"
      ],
      "metadata": {
        "colab": {
          "base_uri": "https://localhost:8080/"
        },
        "id": "PMAi_67tyzpG",
        "outputId": "888356ca-37b7-4c5a-c108-cab62451771b"
      },
      "execution_count": null,
      "outputs": [
        {
          "output_type": "stream",
          "name": "stdout",
          "text": [
            "(48, 224, 224, 3)\n",
            "(12, 224, 224, 3)\n",
            "(48, 3)\n",
            "(12, 3)\n"
          ]
        }
      ]
    },
    {
      "cell_type": "markdown",
      "source": [
        "#2. Developing the model\n",
        "\n",
        "- Developing the DenseNet201 Model\n",
        "- Hypertuning parameters\n",
        "- Saving the model optimised with the best parameters"
      ],
      "metadata": {
        "id": "9KroGLY3_eB3"
      }
    },
    {
      "cell_type": "markdown",
      "source": [
        "##2.1 Developing DenseNet201 Model"
      ],
      "metadata": {
        "id": "mcLzdOXJlK8K"
      }
    },
    {
      "cell_type": "markdown",
      "source": [
        "Defining the training generator and validation generator"
      ],
      "metadata": {
        "id": "3EzrGbDanZ2w"
      }
    },
    {
      "cell_type": "code",
      "source": [
        "!pip install keras_tuner"
      ],
      "metadata": {
        "colab": {
          "base_uri": "https://localhost:8080/"
        },
        "id": "p20N5XUIZ9oR",
        "outputId": "b2022ea2-7109-45a8-9d10-13ea46c6908b"
      },
      "execution_count": null,
      "outputs": [
        {
          "output_type": "stream",
          "name": "stdout",
          "text": [
            "Collecting keras_tuner\n",
            "  Downloading keras_tuner-1.4.7-py3-none-any.whl.metadata (5.4 kB)\n",
            "Requirement already satisfied: keras in /usr/local/lib/python3.11/dist-packages (from keras_tuner) (3.8.0)\n",
            "Requirement already satisfied: packaging in /usr/local/lib/python3.11/dist-packages (from keras_tuner) (24.2)\n",
            "Requirement already satisfied: requests in /usr/local/lib/python3.11/dist-packages (from keras_tuner) (2.32.3)\n",
            "Collecting kt-legacy (from keras_tuner)\n",
            "  Downloading kt_legacy-1.0.5-py3-none-any.whl.metadata (221 bytes)\n",
            "Requirement already satisfied: absl-py in /usr/local/lib/python3.11/dist-packages (from keras->keras_tuner) (1.4.0)\n",
            "Requirement already satisfied: numpy in /usr/local/lib/python3.11/dist-packages (from keras->keras_tuner) (2.0.2)\n",
            "Requirement already satisfied: rich in /usr/local/lib/python3.11/dist-packages (from keras->keras_tuner) (13.9.4)\n",
            "Requirement already satisfied: namex in /usr/local/lib/python3.11/dist-packages (from keras->keras_tuner) (0.0.8)\n",
            "Requirement already satisfied: h5py in /usr/local/lib/python3.11/dist-packages (from keras->keras_tuner) (3.13.0)\n",
            "Requirement already satisfied: optree in /usr/local/lib/python3.11/dist-packages (from keras->keras_tuner) (0.14.1)\n",
            "Requirement already satisfied: ml-dtypes in /usr/local/lib/python3.11/dist-packages (from keras->keras_tuner) (0.4.1)\n",
            "Requirement already satisfied: charset-normalizer<4,>=2 in /usr/local/lib/python3.11/dist-packages (from requests->keras_tuner) (3.4.1)\n",
            "Requirement already satisfied: idna<4,>=2.5 in /usr/local/lib/python3.11/dist-packages (from requests->keras_tuner) (3.10)\n",
            "Requirement already satisfied: urllib3<3,>=1.21.1 in /usr/local/lib/python3.11/dist-packages (from requests->keras_tuner) (2.3.0)\n",
            "Requirement already satisfied: certifi>=2017.4.17 in /usr/local/lib/python3.11/dist-packages (from requests->keras_tuner) (2025.1.31)\n",
            "Requirement already satisfied: typing-extensions>=4.5.0 in /usr/local/lib/python3.11/dist-packages (from optree->keras->keras_tuner) (4.12.2)\n",
            "Requirement already satisfied: markdown-it-py>=2.2.0 in /usr/local/lib/python3.11/dist-packages (from rich->keras->keras_tuner) (3.0.0)\n",
            "Requirement already satisfied: pygments<3.0.0,>=2.13.0 in /usr/local/lib/python3.11/dist-packages (from rich->keras->keras_tuner) (2.18.0)\n",
            "Requirement already satisfied: mdurl~=0.1 in /usr/local/lib/python3.11/dist-packages (from markdown-it-py>=2.2.0->rich->keras->keras_tuner) (0.1.2)\n",
            "Downloading keras_tuner-1.4.7-py3-none-any.whl (129 kB)\n",
            "\u001b[2K   \u001b[90m━━━━━━━━━━━━━━━━━━━━━━━━━━━━━━━━━━━━━━━━\u001b[0m \u001b[32m129.1/129.1 kB\u001b[0m \u001b[31m2.5 MB/s\u001b[0m eta \u001b[36m0:00:00\u001b[0m\n",
            "\u001b[?25hDownloading kt_legacy-1.0.5-py3-none-any.whl (9.6 kB)\n",
            "Installing collected packages: kt-legacy, keras_tuner\n",
            "Successfully installed keras_tuner-1.4.7 kt-legacy-1.0.5\n"
          ]
        }
      ]
    },
    {
      "cell_type": "code",
      "source": [
        "import tensorflow as tf\n",
        "from tensorflow.keras.preprocessing.image import ImageDataGenerator\n",
        "from tensorflow.keras.applications import DenseNet201\n",
        "from tensorflow.keras.layers import Dense, Dropout, GlobalAveragePooling2D\n",
        "from tensorflow.keras.models import Model\n",
        "from tensorflow.keras.optimizers import Adam\n",
        "import matplotlib.pyplot as plt\n",
        "import keras_tuner as kt\n",
        "\n",
        "# Define image size (DenseNet201 requires at least 32x32, but 224x224 is standard)\n",
        "IMAGE_SIZE = (224, 224) # This image size was used in literature\n",
        "BATCH_SIZE = 32\n",
        "\n",
        "# Image augmentation for training\n",
        "# Note 1: Normalisation can be done here, but was manually performed in pre-processing stage\n",
        "# Note 2: brightness can be altered: brightness_range=[0.5, 1.5]  # Adjust brightness\n",
        "# Note 3: Implementing this makes the accuracy of the model worse\n",
        "# train_datagen = ImageDataGenerator(\n",
        "#     rotation_range=20, # Rotates up to 20 degrees\n",
        "#     width_shift_range=0.2, # Shifts horizontally\n",
        "#     height_shift_range=0.2, # Shifts vertically\n",
        "#     horizontal_flip=True, # Flips images horizontally\n",
        "# )\n",
        "\n",
        "# Defining ImageDataGenerator for training images\n",
        "train_datagen = ImageDataGenerator()\n",
        "\n",
        "# Defining ImageDataGenerator for validation images\n",
        "val_datagen = ImageDataGenerator()\n",
        "\n",
        "# Loading training and validation images and their respective labels\n",
        "train_generator = train_datagen.flow(X_train, y_train, batch_size= BATCH_SIZE, shuffle=True) # Shuffle = true to improve training generalisation\n",
        "val_generator = val_datagen.flow(X_val, y_val, batch_size = BATCH_SIZE, shuffle = False)\n"
      ],
      "metadata": {
        "id": "6v4qrN1XnDEl"
      },
      "execution_count": null,
      "outputs": []
    },
    {
      "cell_type": "markdown",
      "source": [
        "Defining function that builds DenseNet201 model"
      ],
      "metadata": {
        "id": "eSFoML6Hw1KJ"
      }
    },
    {
      "cell_type": "code",
      "source": [
        "def build_model(hp):\n",
        "    \"\"\"\n",
        "    Function to build a DenseNet201-based model with hyperparameter tuning.\n",
        "\n",
        "    Args:\n",
        "        hp (kt.HyperParameters): Hyperparameter search space.\n",
        "\n",
        "    Returns:\n",
        "        Keras Model with dynamically selected hyperparameters.\n",
        "    \"\"\"\n",
        "\n",
        "    # Load DenseNet201 without classification layer\n",
        "    base_model = DenseNet201(weights=\"imagenet\", include_top=False, input_shape=(224, 224, 3))\n",
        "    base_model.trainable = False  # Keep pretrained weights frozen\n",
        "\n",
        "    # Add classification layers\n",
        "    x = GlobalAveragePooling2D()(base_model.output)\n",
        "\n",
        "    # Tune number of Dense layers\n",
        "    # Note: can omit for loop for testing\n",
        "    for i in range(hp.Int('num_dense_layers', 2, 4)): # Adjusted to 2 to 4; so altogether there is an additional 6-8 layers in total\n",
        "        x = Dense(hp.Int(f'units_{i}', min_value=128, max_value=1024, step=128), activation='relu')(x)\n",
        "        x = Dropout(hp.Float(f'dropout_{i}', 0.2, 0.5, step=0.1))(x)\n",
        "\n",
        "    # Output Layer (Number of Classes)\n",
        "    output_layer = Dense(num_classes, activation=\"softmax\")(x)\n",
        "\n",
        "    # Create Model\n",
        "    model = Model(inputs=base_model.input, outputs=output_layer)\n",
        "\n",
        "    # Tune Learning Rate\n",
        "    learning_rate = hp.Choice('learning_rate', values=[1e-4, 1e-3, 1e-2])\n",
        "\n",
        "    # Compile Model\n",
        "    model.compile(\n",
        "        optimizer=Adam(learning_rate=learning_rate), #====================================================== Try SGD to see if it improves the performance (Note: Reference [1])\n",
        "        loss=\"categorical_crossentropy\",\n",
        "        metrics=[\"accuracy\"]\n",
        "    )\n",
        "\n",
        "    return model\n"
      ],
      "metadata": {
        "id": "QU4h7waiwh-G"
      },
      "execution_count": null,
      "outputs": []
    },
    {
      "cell_type": "markdown",
      "source": [
        "Initialising the tuner using Hyperband which is more efficient than RandomSearch; therefore ideal for large datasets"
      ],
      "metadata": {
        "id": "4V3OJCsvujHt"
      }
    },
    {
      "cell_type": "code",
      "source": [
        "# Initialise the tuner using Hyperband\n",
        "tuner = kt.Hyperband(\n",
        "    build_model,\n",
        "    objective=\"val_accuracy\",\n",
        "    max_epochs=10,\n",
        "    factor=3,\n",
        "    directory=\"keras_tuner_results\",\n",
        "    project_name=\"densenet_tuning\"\n",
        ")"
      ],
      "metadata": {
        "colab": {
          "base_uri": "https://localhost:8080/"
        },
        "id": "5Rb9HWolzoJC",
        "outputId": "b266ff9b-8ea7-4ba7-de80-85027976c498"
      },
      "execution_count": null,
      "outputs": [
        {
          "output_type": "stream",
          "name": "stdout",
          "text": [
            "Downloading data from https://storage.googleapis.com/tensorflow/keras-applications/densenet/densenet201_weights_tf_dim_ordering_tf_kernels_notop.h5\n",
            "\u001b[1m74836368/74836368\u001b[0m \u001b[32m━━━━━━━━━━━━━━━━━━━━\u001b[0m\u001b[37m\u001b[0m \u001b[1m0s\u001b[0m 0us/step\n"
          ]
        }
      ]
    },
    {
      "cell_type": "markdown",
      "source": [
        "Perform hyperparameter tuning"
      ],
      "metadata": {
        "id": "iQbWwHVNuyGi"
      }
    },
    {
      "cell_type": "code",
      "source": [
        "tuner.search(\n",
        "    train_generator,\n",
        "    validation_data=val_generator,\n",
        "    epochs=10,  # Keep training epochs low to speed up tuning\n",
        "    steps_per_epoch=len(X_train) // BATCH_SIZE,\n",
        "    validation_steps=len(X_val) // BATCH_SIZE\n",
        ")\n"
      ],
      "metadata": {
        "colab": {
          "base_uri": "https://localhost:8080/"
        },
        "id": "eDPemKtuuxoL",
        "outputId": "726be740-8650-4a30-91a3-800691e9c232"
      },
      "execution_count": null,
      "outputs": [
        {
          "output_type": "stream",
          "name": "stdout",
          "text": [
            "Trial 30 Complete [00h 02m 18s]\n",
            "val_accuracy: 0.6666666865348816\n",
            "\n",
            "Best val_accuracy So Far: 0.75\n",
            "Total elapsed time: 00h 35m 58s\n"
          ]
        }
      ]
    },
    {
      "cell_type": "markdown",
      "source": [
        "Retrieve the best model"
      ],
      "metadata": {
        "id": "kwI-Ykp0u3XE"
      }
    },
    {
      "cell_type": "code",
      "source": [
        "best_hps = tuner.get_best_hyperparameters(num_trials=1)[0]  # Get best parameters\n",
        "\n",
        "print(f\"\"\"\n",
        "Best Hyperparameters:\n",
        "- Dense Neurons: {best_hps.get('dense_units')}\n",
        "- Dropout Rate: {best_hps.get('dropout_rate')}\n",
        "- Learning Rate: {best_hps.get('learning_rate')}\n",
        "\"\"\")"
      ],
      "metadata": {
        "colab": {
          "base_uri": "https://localhost:8080/"
        },
        "id": "jn3jIQw-u4j9",
        "outputId": "8225cf2f-c83b-4fdf-e3ec-ea80072cdb4b"
      },
      "execution_count": null,
      "outputs": [
        {
          "output_type": "stream",
          "name": "stdout",
          "text": [
            "\n",
            "Best Hyperparameters:\n",
            "- Dense Neurons: 768\n",
            "- Dropout Rate: 0.30000000000000004\n",
            "- Learning Rate: 0.0001\n",
            "\n"
          ]
        }
      ]
    },
    {
      "cell_type": "markdown",
      "source": [
        "Training and saving the best model"
      ],
      "metadata": {
        "id": "dh3xhjYM1GPo"
      }
    },
    {
      "cell_type": "code",
      "source": [
        "from tensorflow.keras.callbacks import ModelCheckpoint\n",
        "import pandas as pd\n",
        "\n",
        "# Define the checkpoint to save the best model\n",
        "checkpoint = ModelCheckpoint(\n",
        "    filepath= \"/content/drive/MyDrive/AIStudio/Mini version CNN/DenseNet201_best_model.h5\",  # Path to save\n",
        "    monitor=\"val_accuracy\",  # Monitor validation accuracy\n",
        "    save_best_only=True,  # Only save model if it improves\n",
        "    save_weights_only=False,  # Save the entire model, not just weights\n",
        "    verbose=1  # Print save message\n",
        ")\n",
        "\n",
        "# Build the best model using optimal hyperparameters\n",
        "best_model = tuner.hypermodel.build(best_hps)\n",
        "\n",
        "# Train the model with checkpointing\n",
        "history = best_model.fit(\n",
        "    train_generator,\n",
        "    validation_data=val_generator,\n",
        "    epochs=20,  # Train longer with best parameters\n",
        "    steps_per_epoch=len(X_train) // BATCH_SIZE,\n",
        "    validation_steps=len(X_val) // BATCH_SIZE,\n",
        "    callbacks=[checkpoint]  # Add checkpoint callback here\n",
        ")\n",
        "\n",
        "# Saving history for plotting graph\n",
        "history_df = pd.DataFrame(history.history)\n",
        "history_df.to_csv(\"training_history.csv\", index=False)\n"
      ],
      "metadata": {
        "colab": {
          "base_uri": "https://localhost:8080/"
        },
        "id": "cDPQyZv_u-HN",
        "outputId": "ba334f84-1510-4c12-dd05-d8a82fe85a14"
      },
      "execution_count": null,
      "outputs": [
        {
          "output_type": "stream",
          "name": "stdout",
          "text": [
            "Epoch 1/20\n",
            "\u001b[1m1/1\u001b[0m \u001b[32m━━━━━━━━━━━━━━━━━━━━\u001b[0m\u001b[37m\u001b[0m \u001b[1m0s\u001b[0m 21s/step - accuracy: 0.2500 - loss: 1.5560\n",
            "Epoch 1: val_accuracy improved from -inf to 0.25000, saving model to /content/drive/MyDrive/AIStudio/Mini version CNN/DenseNet201_best_model.h5\n"
          ]
        },
        {
          "output_type": "stream",
          "name": "stderr",
          "text": [
            "WARNING:absl:You are saving your model as an HDF5 file via `model.save()` or `keras.saving.save_model(model)`. This file format is considered legacy. We recommend using instead the native Keras format, e.g. `model.save('my_model.keras')` or `keras.saving.save_model(model, 'my_model.keras')`. \n"
          ]
        },
        {
          "output_type": "stream",
          "name": "stdout",
          "text": [
            "\b\b\b\b\b\b\b\b\b\b\b\b\b\b\b\b\b\b\b\b\b\b\b\b\b\b\b\b\b\b\b\b\b\b\b\b\b\b\b\b\b\b\b\b\b\b\b\b\b\b\b\b\b\b\b\b\b\b\b\b\b\b\b\b\b\b\b\b\b\b\r\u001b[1m1/1\u001b[0m \u001b[32m━━━━━━━━━━━━━━━━━━━━\u001b[0m\u001b[37m\u001b[0m \u001b[1m37s\u001b[0m 37s/step - accuracy: 0.2500 - loss: 1.5560 - val_accuracy: 0.2500 - val_loss: 1.2770\n",
            "Epoch 2/20\n",
            "\u001b[1m1/1\u001b[0m \u001b[32m━━━━━━━━━━━━━━━━━━━━\u001b[0m\u001b[37m\u001b[0m \u001b[1m0s\u001b[0m 6s/step - accuracy: 0.3750 - loss: 1.2572\n",
            "Epoch 2: val_accuracy did not improve from 0.25000\n",
            "\u001b[1m1/1\u001b[0m \u001b[32m━━━━━━━━━━━━━━━━━━━━\u001b[0m\u001b[37m\u001b[0m \u001b[1m8s\u001b[0m 8s/step - accuracy: 0.3750 - loss: 1.2572 - val_accuracy: 0.2500 - val_loss: 1.2147\n",
            "Epoch 3/20\n",
            "\u001b[1m1/1\u001b[0m \u001b[32m━━━━━━━━━━━━━━━━━━━━\u001b[0m\u001b[37m\u001b[0m \u001b[1m0s\u001b[0m 21s/step - accuracy: 0.4688 - loss: 1.2160\n",
            "Epoch 3: val_accuracy improved from 0.25000 to 0.33333, saving model to /content/drive/MyDrive/AIStudio/Mini version CNN/DenseNet201_best_model.h5\n"
          ]
        },
        {
          "output_type": "stream",
          "name": "stderr",
          "text": [
            "WARNING:absl:You are saving your model as an HDF5 file via `model.save()` or `keras.saving.save_model(model)`. This file format is considered legacy. We recommend using instead the native Keras format, e.g. `model.save('my_model.keras')` or `keras.saving.save_model(model, 'my_model.keras')`. \n"
          ]
        },
        {
          "output_type": "stream",
          "name": "stdout",
          "text": [
            "\b\b\b\b\b\b\b\b\b\b\b\b\b\b\b\b\b\b\b\b\b\b\b\b\b\b\b\b\b\b\b\b\b\b\b\b\b\b\b\b\b\b\b\b\b\b\b\b\b\b\b\b\b\b\b\b\b\b\b\b\b\b\b\b\b\b\b\b\b\b\r\u001b[1m1/1\u001b[0m \u001b[32m━━━━━━━━━━━━━━━━━━━━\u001b[0m\u001b[37m\u001b[0m \u001b[1m32s\u001b[0m 32s/step - accuracy: 0.4688 - loss: 1.2160 - val_accuracy: 0.3333 - val_loss: 1.1810\n",
            "Epoch 4/20\n",
            "\u001b[1m1/1\u001b[0m \u001b[32m━━━━━━━━━━━━━━━━━━━━\u001b[0m\u001b[37m\u001b[0m \u001b[1m0s\u001b[0m 3s/step - accuracy: 0.6875 - loss: 0.7301\n",
            "Epoch 4: val_accuracy did not improve from 0.33333\n",
            "\u001b[1m1/1\u001b[0m \u001b[32m━━━━━━━━━━━━━━━━━━━━\u001b[0m\u001b[37m\u001b[0m \u001b[1m5s\u001b[0m 5s/step - accuracy: 0.6875 - loss: 0.7301 - val_accuracy: 0.2500 - val_loss: 1.1642\n",
            "Epoch 5/20\n",
            "\u001b[1m1/1\u001b[0m \u001b[32m━━━━━━━━━━━━━━━━━━━━\u001b[0m\u001b[37m\u001b[0m \u001b[1m0s\u001b[0m 2s/step - accuracy: 0.6250 - loss: 0.8378\n",
            "Epoch 5: val_accuracy did not improve from 0.33333\n",
            "\u001b[1m1/1\u001b[0m \u001b[32m━━━━━━━━━━━━━━━━━━━━\u001b[0m\u001b[37m\u001b[0m \u001b[1m5s\u001b[0m 5s/step - accuracy: 0.6250 - loss: 0.8378 - val_accuracy: 0.2500 - val_loss: 1.1564\n",
            "Epoch 6/20\n",
            "\u001b[1m1/1\u001b[0m \u001b[32m━━━━━━━━━━━━━━━━━━━━\u001b[0m\u001b[37m\u001b[0m \u001b[1m0s\u001b[0m 6s/step - accuracy: 0.6562 - loss: 0.8845\n",
            "Epoch 6: val_accuracy did not improve from 0.33333\n",
            "\u001b[1m1/1\u001b[0m \u001b[32m━━━━━━━━━━━━━━━━━━━━\u001b[0m\u001b[37m\u001b[0m \u001b[1m8s\u001b[0m 8s/step - accuracy: 0.6562 - loss: 0.8845 - val_accuracy: 0.2500 - val_loss: 1.1432\n",
            "Epoch 7/20\n",
            "\u001b[1m1/1\u001b[0m \u001b[32m━━━━━━━━━━━━━━━━━━━━\u001b[0m\u001b[37m\u001b[0m \u001b[1m0s\u001b[0m 12s/step - accuracy: 0.7500 - loss: 0.8290\n",
            "Epoch 7: val_accuracy did not improve from 0.33333\n",
            "\u001b[1m1/1\u001b[0m \u001b[32m━━━━━━━━━━━━━━━━━━━━\u001b[0m\u001b[37m\u001b[0m \u001b[1m17s\u001b[0m 17s/step - accuracy: 0.7500 - loss: 0.8290 - val_accuracy: 0.2500 - val_loss: 1.1366\n",
            "Epoch 8/20\n",
            "\u001b[1m1/1\u001b[0m \u001b[32m━━━━━━━━━━━━━━━━━━━━\u001b[0m\u001b[37m\u001b[0m \u001b[1m0s\u001b[0m 8s/step - accuracy: 0.6562 - loss: 0.8006\n",
            "Epoch 8: val_accuracy did not improve from 0.33333\n",
            "\u001b[1m1/1\u001b[0m \u001b[32m━━━━━━━━━━━━━━━━━━━━\u001b[0m\u001b[37m\u001b[0m \u001b[1m11s\u001b[0m 11s/step - accuracy: 0.6562 - loss: 0.8006 - val_accuracy: 0.2500 - val_loss: 1.1203\n",
            "Epoch 9/20\n",
            "\u001b[1m1/1\u001b[0m \u001b[32m━━━━━━━━━━━━━━━━━━━━\u001b[0m\u001b[37m\u001b[0m \u001b[1m0s\u001b[0m 4s/step - accuracy: 0.6875 - loss: 0.7011\n",
            "Epoch 9: val_accuracy did not improve from 0.33333\n",
            "\u001b[1m1/1\u001b[0m \u001b[32m━━━━━━━━━━━━━━━━━━━━\u001b[0m\u001b[37m\u001b[0m \u001b[1m7s\u001b[0m 7s/step - accuracy: 0.6875 - loss: 0.7011 - val_accuracy: 0.3333 - val_loss: 1.1011\n",
            "Epoch 10/20\n",
            "\u001b[1m1/1\u001b[0m \u001b[32m━━━━━━━━━━━━━━━━━━━━\u001b[0m\u001b[37m\u001b[0m \u001b[1m0s\u001b[0m 6s/step - accuracy: 0.7188 - loss: 0.6626\n",
            "Epoch 10: val_accuracy improved from 0.33333 to 0.41667, saving model to /content/drive/MyDrive/AIStudio/Mini version CNN/DenseNet201_best_model.h5\n"
          ]
        },
        {
          "output_type": "stream",
          "name": "stderr",
          "text": [
            "WARNING:absl:You are saving your model as an HDF5 file via `model.save()` or `keras.saving.save_model(model)`. This file format is considered legacy. We recommend using instead the native Keras format, e.g. `model.save('my_model.keras')` or `keras.saving.save_model(model, 'my_model.keras')`. \n"
          ]
        },
        {
          "output_type": "stream",
          "name": "stdout",
          "text": [
            "\b\b\b\b\b\b\b\b\b\b\b\b\b\b\b\b\b\b\b\b\b\b\b\b\b\b\b\b\b\b\b\b\b\b\b\b\b\b\b\b\b\b\b\b\b\b\b\b\b\b\b\b\b\b\b\b\b\b\b\b\b\b\b\b\b\b\b\b\b\r\u001b[1m1/1\u001b[0m \u001b[32m━━━━━━━━━━━━━━━━━━━━\u001b[0m\u001b[37m\u001b[0m \u001b[1m17s\u001b[0m 17s/step - accuracy: 0.7188 - loss: 0.6626 - val_accuracy: 0.4167 - val_loss: 1.0846\n",
            "Epoch 11/20\n",
            "\u001b[1m1/1\u001b[0m \u001b[32m━━━━━━━━━━━━━━━━━━━━\u001b[0m\u001b[37m\u001b[0m \u001b[1m0s\u001b[0m 7s/step - accuracy: 0.7812 - loss: 0.5509\n",
            "Epoch 11: val_accuracy improved from 0.41667 to 0.50000, saving model to /content/drive/MyDrive/AIStudio/Mini version CNN/DenseNet201_best_model.h5\n"
          ]
        },
        {
          "output_type": "stream",
          "name": "stderr",
          "text": [
            "WARNING:absl:You are saving your model as an HDF5 file via `model.save()` or `keras.saving.save_model(model)`. This file format is considered legacy. We recommend using instead the native Keras format, e.g. `model.save('my_model.keras')` or `keras.saving.save_model(model, 'my_model.keras')`. \n"
          ]
        },
        {
          "output_type": "stream",
          "name": "stdout",
          "text": [
            "\b\b\b\b\b\b\b\b\b\b\b\b\b\b\b\b\b\b\b\b\b\b\b\b\b\b\b\b\b\b\b\b\b\b\b\b\b\b\b\b\b\b\b\b\b\b\b\b\b\b\b\b\b\b\b\b\b\b\b\b\b\b\b\b\b\b\b\b\b\r\u001b[1m1/1\u001b[0m \u001b[32m━━━━━━━━━━━━━━━━━━━━\u001b[0m\u001b[37m\u001b[0m \u001b[1m17s\u001b[0m 17s/step - accuracy: 0.7812 - loss: 0.5509 - val_accuracy: 0.5000 - val_loss: 1.0698\n",
            "Epoch 12/20\n",
            "\u001b[1m1/1\u001b[0m \u001b[32m━━━━━━━━━━━━━━━━━━━━\u001b[0m\u001b[37m\u001b[0m \u001b[1m0s\u001b[0m 3s/step - accuracy: 0.9375 - loss: 0.5683\n",
            "Epoch 12: val_accuracy did not improve from 0.50000\n",
            "\u001b[1m1/1\u001b[0m \u001b[32m━━━━━━━━━━━━━━━━━━━━\u001b[0m\u001b[37m\u001b[0m \u001b[1m5s\u001b[0m 5s/step - accuracy: 0.9375 - loss: 0.5683 - val_accuracy: 0.5000 - val_loss: 1.0583\n",
            "Epoch 13/20\n",
            "\u001b[1m1/1\u001b[0m \u001b[32m━━━━━━━━━━━━━━━━━━━━\u001b[0m\u001b[37m\u001b[0m \u001b[1m0s\u001b[0m 3s/step - accuracy: 0.7500 - loss: 0.5421\n",
            "Epoch 13: val_accuracy did not improve from 0.50000\n",
            "\u001b[1m1/1\u001b[0m \u001b[32m━━━━━━━━━━━━━━━━━━━━\u001b[0m\u001b[37m\u001b[0m \u001b[1m5s\u001b[0m 5s/step - accuracy: 0.7500 - loss: 0.5421 - val_accuracy: 0.5000 - val_loss: 1.0507\n",
            "Epoch 14/20\n",
            "\u001b[1m1/1\u001b[0m \u001b[32m━━━━━━━━━━━━━━━━━━━━\u001b[0m\u001b[37m\u001b[0m \u001b[1m0s\u001b[0m 6s/step - accuracy: 0.8750 - loss: 0.4741\n",
            "Epoch 14: val_accuracy did not improve from 0.50000\n",
            "\u001b[1m1/1\u001b[0m \u001b[32m━━━━━━━━━━━━━━━━━━━━\u001b[0m\u001b[37m\u001b[0m \u001b[1m9s\u001b[0m 9s/step - accuracy: 0.8750 - loss: 0.4741 - val_accuracy: 0.5000 - val_loss: 1.0451\n",
            "Epoch 15/20\n",
            "\u001b[1m1/1\u001b[0m \u001b[32m━━━━━━━━━━━━━━━━━━━━\u001b[0m\u001b[37m\u001b[0m \u001b[1m0s\u001b[0m 2s/step - accuracy: 0.8750 - loss: 0.3305\n",
            "Epoch 15: val_accuracy did not improve from 0.50000\n",
            "\u001b[1m1/1\u001b[0m \u001b[32m━━━━━━━━━━━━━━━━━━━━\u001b[0m\u001b[37m\u001b[0m \u001b[1m4s\u001b[0m 4s/step - accuracy: 0.8750 - loss: 0.3305 - val_accuracy: 0.5000 - val_loss: 1.0402\n",
            "Epoch 16/20\n",
            "\u001b[1m1/1\u001b[0m \u001b[32m━━━━━━━━━━━━━━━━━━━━\u001b[0m\u001b[37m\u001b[0m \u001b[1m0s\u001b[0m 6s/step - accuracy: 0.9375 - loss: 0.3842\n",
            "Epoch 16: val_accuracy did not improve from 0.50000\n",
            "\u001b[1m1/1\u001b[0m \u001b[32m━━━━━━━━━━━━━━━━━━━━\u001b[0m\u001b[37m\u001b[0m \u001b[1m8s\u001b[0m 8s/step - accuracy: 0.9375 - loss: 0.3842 - val_accuracy: 0.5000 - val_loss: 1.0356\n",
            "Epoch 17/20\n",
            "\u001b[1m1/1\u001b[0m \u001b[32m━━━━━━━━━━━━━━━━━━━━\u001b[0m\u001b[37m\u001b[0m \u001b[1m0s\u001b[0m 11s/step - accuracy: 0.9375 - loss: 0.3362\n",
            "Epoch 17: val_accuracy did not improve from 0.50000\n",
            "\u001b[1m1/1\u001b[0m \u001b[32m━━━━━━━━━━━━━━━━━━━━\u001b[0m\u001b[37m\u001b[0m \u001b[1m13s\u001b[0m 13s/step - accuracy: 0.9375 - loss: 0.3362 - val_accuracy: 0.5000 - val_loss: 1.0305\n",
            "Epoch 18/20\n",
            "\u001b[1m1/1\u001b[0m \u001b[32m━━━━━━━━━━━━━━━━━━━━\u001b[0m\u001b[37m\u001b[0m \u001b[1m0s\u001b[0m 6s/step - accuracy: 0.9062 - loss: 0.3839\n",
            "Epoch 18: val_accuracy did not improve from 0.50000\n",
            "\u001b[1m1/1\u001b[0m \u001b[32m━━━━━━━━━━━━━━━━━━━━\u001b[0m\u001b[37m\u001b[0m \u001b[1m9s\u001b[0m 9s/step - accuracy: 0.9062 - loss: 0.3839 - val_accuracy: 0.5000 - val_loss: 1.0248\n",
            "Epoch 19/20\n",
            "\u001b[1m1/1\u001b[0m \u001b[32m━━━━━━━━━━━━━━━━━━━━\u001b[0m\u001b[37m\u001b[0m \u001b[1m0s\u001b[0m 14s/step - accuracy: 0.9688 - loss: 0.2629\n",
            "Epoch 19: val_accuracy did not improve from 0.50000\n",
            "\u001b[1m1/1\u001b[0m \u001b[32m━━━━━━━━━━━━━━━━━━━━\u001b[0m\u001b[37m\u001b[0m \u001b[1m16s\u001b[0m 16s/step - accuracy: 0.9688 - loss: 0.2629 - val_accuracy: 0.5000 - val_loss: 1.0181\n",
            "Epoch 20/20\n",
            "\u001b[1m1/1\u001b[0m \u001b[32m━━━━━━━━━━━━━━━━━━━━\u001b[0m\u001b[37m\u001b[0m \u001b[1m0s\u001b[0m 3s/step - accuracy: 1.0000 - loss: 0.3380\n",
            "Epoch 20: val_accuracy did not improve from 0.50000\n",
            "\u001b[1m1/1\u001b[0m \u001b[32m━━━━━━━━━━━━━━━━━━━━\u001b[0m\u001b[37m\u001b[0m \u001b[1m5s\u001b[0m 5s/step - accuracy: 1.0000 - loss: 0.3380 - val_accuracy: 0.5000 - val_loss: 1.0143\n"
          ]
        }
      ]
    },
    {
      "cell_type": "markdown",
      "source": [
        "Loading saved model"
      ],
      "metadata": {
        "id": "-_W6Md8t8b9G"
      }
    },
    {
      "cell_type": "code",
      "source": [
        "from tensorflow.keras.models import load_model\n",
        "\n",
        "best_model = load_model(\"/content/drive/MyDrive/AIStudio/Mini version CNN/DenseNet201_best_model.h5\")"
      ],
      "metadata": {
        "colab": {
          "base_uri": "https://localhost:8080/"
        },
        "id": "7Zxn3EST8drb",
        "outputId": "033db56c-c861-4eea-f138-a17cf1af2666"
      },
      "execution_count": null,
      "outputs": [
        {
          "output_type": "stream",
          "name": "stderr",
          "text": [
            "WARNING:absl:Compiled the loaded model, but the compiled metrics have yet to be built. `model.compile_metrics` will be empty until you train or evaluate the model.\n"
          ]
        }
      ]
    },
    {
      "cell_type": "markdown",
      "source": [
        "Loading history"
      ],
      "metadata": {
        "id": "f1nH82_cZsTH"
      }
    },
    {
      "cell_type": "code",
      "source": [
        "history_df = pd.read_csv(\"training_history.csv\")"
      ],
      "metadata": {
        "id": "dc0E21WJZt_U"
      },
      "execution_count": null,
      "outputs": []
    },
    {
      "cell_type": "markdown",
      "source": [
        "#3. Evaluation Metrics and Visualisations\n",
        "Computing the confusion matrix and the following evaluation metrics:\n",
        "- Accuracy\n",
        "- F1 Score\n",
        "- Precision\n",
        "- Recall\n"
      ],
      "metadata": {
        "id": "I6sDYvgx3ptn"
      }
    },
    {
      "cell_type": "markdown",
      "source": [
        "##3.1 Evaluation Metrics"
      ],
      "metadata": {
        "id": "Ul7mXlFsWnQg"
      }
    },
    {
      "cell_type": "markdown",
      "source": [
        "Converting softmax probabilities to class labels for evaluation"
      ],
      "metadata": {
        "id": "03Nyea1r2OzD"
      }
    },
    {
      "cell_type": "code",
      "source": [
        "import numpy as np\n",
        "\n",
        "# Get model predictions on the validation set\n",
        "y_pred_probs = best_model.predict(val_generator)  # Predict probabilities\n",
        "y_pred = np.argmax(y_pred_probs, axis=1)  # Convert probabilities to class labels\n",
        "\n",
        "# Get true labels from the generator\n",
        "y_true = np.argmax(y_val, axis=1)  # Convert one-hot labels to class indices\n"
      ],
      "metadata": {
        "id": "lInq9pxT3vJH",
        "colab": {
          "base_uri": "https://localhost:8080/"
        },
        "outputId": "6b180f32-7f0f-4bcb-b3f4-d84718854401"
      },
      "execution_count": null,
      "outputs": [
        {
          "output_type": "stream",
          "name": "stdout",
          "text": [
            "\u001b[1m1/1\u001b[0m \u001b[32m━━━━━━━━━━━━━━━━━━━━\u001b[0m\u001b[37m\u001b[0m \u001b[1m7s\u001b[0m 7s/step\n"
          ]
        }
      ]
    },
    {
      "cell_type": "markdown",
      "source": [
        "Computing evaluation metrics using sklearn.metrics"
      ],
      "metadata": {
        "id": "XRYYwzR32S-l"
      }
    },
    {
      "cell_type": "code",
      "source": [
        "from sklearn.metrics import classification_report\n",
        "import pandas as pd\n",
        "\n",
        "# Get class labels\n",
        "class_labels = [\"Plastic\", \"Organic\", \"Non-Plastic & Non-Organic\"]  # Replace with actual class names\n",
        "\n",
        "# Compute evaluation metrics per class\n",
        "report = classification_report(y_true, y_pred, target_names=class_labels, output_dict=True)\n",
        "\n",
        "# Convert to a DataFrame for better readability\n",
        "df_report = pd.DataFrame(report).transpose()\n",
        "\n",
        "# Display the table\n",
        "print(\"\\n==================== Evaluation Metrics Report ====================\")\n",
        "print(df_report)"
      ],
      "metadata": {
        "colab": {
          "base_uri": "https://localhost:8080/"
        },
        "id": "m6WBWNXC39kG",
        "outputId": "94e0a98a-8afb-4bdf-89d4-c801bf454426"
      },
      "execution_count": null,
      "outputs": [
        {
          "output_type": "stream",
          "name": "stdout",
          "text": [
            "\n",
            "==================== Evaluation Metrics Report ====================\n",
            "                           precision  recall  f1-score  support\n",
            "Plastic                          0.5    0.25  0.333333      4.0\n",
            "Organic                          0.5    0.75  0.600000      4.0\n",
            "Non-Plastic & Non-Organic        0.5    0.50  0.500000      4.0\n",
            "accuracy                         0.5    0.50  0.500000      0.5\n",
            "macro avg                        0.5    0.50  0.477778     12.0\n",
            "weighted avg                     0.5    0.50  0.477778     12.0\n"
          ]
        }
      ]
    },
    {
      "cell_type": "markdown",
      "source": [
        "Saving the evaluation metrics to CSV file"
      ],
      "metadata": {
        "id": "zl2xdyi19MGA"
      }
    },
    {
      "cell_type": "code",
      "source": [
        "# Saving to CSV file\n",
        "df_report.to_csv(\"/content/drive/MyDrive/AIStudio/Mini version CNN/evaluation_metrics.csv\")"
      ],
      "metadata": {
        "id": "0Q6JGHVD9OHb"
      },
      "execution_count": null,
      "outputs": []
    },
    {
      "cell_type": "markdown",
      "source": [
        "##3.2 Confusion Matrix"
      ],
      "metadata": {
        "id": "X9pe_VB9WcVT"
      }
    },
    {
      "cell_type": "markdown",
      "source": [
        "Computing and displaying the confusion matrix"
      ],
      "metadata": {
        "id": "jsC7mys-2WCc"
      }
    },
    {
      "cell_type": "code",
      "source": [
        "import seaborn as sns\n",
        "import matplotlib.pyplot as plt\n",
        "from sklearn.metrics import confusion_matrix\n",
        "\n",
        "# Compute confusion matrix\n",
        "conf_matrix = confusion_matrix(y_true, y_pred, labels = [0,1,2])\n",
        "\n",
        "# Plot the confusion matrix\n",
        "# Note that this is correct even though it looks wrong: Only used 12 images as testing data and sum equals 12\n",
        "plt.figure(figsize=(8,6))\n",
        "sns.heatmap(conf_matrix, annot=True, fmt=\"d\", cmap=\"Blues\", square=True, xticklabels= class_names, yticklabels= class_names)\n",
        "plt.xlabel(\"Predicted Labels\", fontsize = 12)\n",
        "plt.ylabel(\"True Labels\", fontsize = 12)\n",
        "plt.title(\"Confusion Matrix of DenseNet201 Classifier\", fontsize = 14)\n",
        "plt.show()\n"
      ],
      "metadata": {
        "colab": {
          "base_uri": "https://localhost:8080/",
          "height": 569
        },
        "id": "ZUzgENIo2Dc2",
        "outputId": "bca073f8-2ca2-405d-fa3c-b27b3929b7ad"
      },
      "execution_count": null,
      "outputs": [
        {
          "output_type": "display_data",
          "data": {
            "text/plain": [
              "<Figure size 800x600 with 2 Axes>"
            ],
            "image/png": "[encoded data removed]"
          },
          "metadata": {}
        }
      ]
    },
    {
      "cell_type": "markdown",
      "source": [
        "##3.3 Training and validation accuracy/ loss curve"
      ],
      "metadata": {
        "id": "MBIooUDs3mun"
      }
    },
    {
      "cell_type": "markdown",
      "source": [
        "Plotting training and validation accuracy/ loss curves"
      ],
      "metadata": {
        "id": "_pzStirpaYM-"
      }
    },
    {
      "cell_type": "code",
      "source": [
        "import matplotlib.pyplot as plt\n",
        "\n",
        "# Plot Accuracy\n",
        "plt.figure(figsize=(18, 6))\n",
        "plt.subplot(1, 2, 1)\n",
        "plt.plot(history_df['accuracy'], label=\"Training Accuracy\")\n",
        "plt.plot(history_df['val_accuracy'], label=\"Validation Accuracy\")\n",
        "plt.xlabel(\"Epochs\", fontsize = 12)\n",
        "plt.ylabel(\"Accuracy\", fontsize = 12)\n",
        "plt.xlim([0, len(history_df)])  # Valid x-range\n",
        "plt.xticks(range(len(history_df)))  # Set ticks for all epochs\n",
        "plt.legend()\n",
        "plt.title(\"Training vs Validation Accuracy\", fontsize = 16)\n",
        "\n",
        "# Plot Loss\n",
        "plt.subplot(1, 2, 2)\n",
        "plt.plot(history_df['loss'], label=\"Training Loss\")\n",
        "plt.plot(history_df['val_loss'], label=\"Validation Loss\")\n",
        "plt.xlabel(\"Epochs\", fontsize = 12)\n",
        "plt.ylabel(\"Loss\", fontsize = 12)\n",
        "plt.xlim([0, len(history_df)])  # Valid x-range\n",
        "plt.xticks(range(len(history_df)))  # Optional: tick at every epoch\n",
        "plt.legend()\n",
        "plt.title(\"Training vs Validation Loss\", fontsize = 16)\n",
        "\n",
        "plt.show()\n"
      ],
      "metadata": {
        "colab": {
          "base_uri": "https://localhost:8080/",
          "height": 570
        },
        "id": "07inzmeZYnvY",
        "outputId": "aad37487-90cf-4263-ee4d-a6cf341e15d7"
      },
      "execution_count": null,
      "outputs": [
        {
          "output_type": "display_data",
          "data": {
            "text/plain": [
              "<Figure size 1800x600 with 2 Axes>"
            ],
            "image/png": "[encoded data removed]"
          },
          "metadata": {}
        }
      ]
    }
  ]
}